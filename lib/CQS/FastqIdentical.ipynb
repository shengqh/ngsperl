{
 "cells": [
  {
   "cell_type": "code",
   "execution_count": 1,
   "metadata": {},
   "outputs": [],
   "source": [
    "import numpy as np\n",
    "import pandas as pd\n",
    "import seaborn as sns\n"
   ]
  },
  {
   "cell_type": "code",
   "execution_count": 2,
   "metadata": {},
   "outputs": [
    {
     "data": {
      "text/html": [
       "<div>\n",
       "<style scoped>\n",
       "    .dataframe tbody tr th:only-of-type {\n",
       "        vertical-align: middle;\n",
       "    }\n",
       "\n",
       "    .dataframe tbody tr th {\n",
       "        vertical-align: top;\n",
       "    }\n",
       "\n",
       "    .dataframe thead th {\n",
       "        text-align: right;\n",
       "    }\n",
       "</style>\n",
       "<table border=\"1\" class=\"dataframe\">\n",
       "  <thead>\n",
       "    <tr style=\"text-align: right;\">\n",
       "      <th></th>\n",
       "      <th>Query</th>\n",
       "      <th>Count</th>\n",
       "      <th>Sequence</th>\n",
       "    </tr>\n",
       "  </thead>\n",
       "  <tbody>\n",
       "    <tr>\n",
       "      <th>0</th>\n",
       "      <td>VH00411:18:AAAMLJYHV:1:1101:45782:2268</td>\n",
       "      <td>5665</td>\n",
       "      <td>ACCAGACCTGGTGGCGGTC</td>\n",
       "    </tr>\n",
       "    <tr>\n",
       "      <th>1</th>\n",
       "      <td>VH00411:18:AAAMLJYHV:1:1101:61063:14555</td>\n",
       "      <td>4121</td>\n",
       "      <td>ACCGGACCTGGTGGCGGTC</td>\n",
       "    </tr>\n",
       "    <tr>\n",
       "      <th>2</th>\n",
       "      <td>VH00411:18:AAAMLJYHV:1:1101:36106:9747</td>\n",
       "      <td>2301</td>\n",
       "      <td>CACCGACCTGGTGGCGGTC</td>\n",
       "    </tr>\n",
       "    <tr>\n",
       "      <th>3</th>\n",
       "      <td>VH00411:18:AAAMLJYHV:1:1101:34592:3499</td>\n",
       "      <td>1670</td>\n",
       "      <td>CCCCGACGGGGGCCCAGGC</td>\n",
       "    </tr>\n",
       "    <tr>\n",
       "      <th>4</th>\n",
       "      <td>VH00411:18:AAAMLJYHV:1:1101:26506:25327</td>\n",
       "      <td>1669</td>\n",
       "      <td>CAGGTGACCTGGTGGCGGTC</td>\n",
       "    </tr>\n",
       "  </tbody>\n",
       "</table>\n",
       "</div>"
      ],
      "text/plain": [
       "                                     Query  Count              Sequence\n",
       "0   VH00411:18:AAAMLJYHV:1:1101:45782:2268   5665   ACCAGACCTGGTGGCGGTC\n",
       "1  VH00411:18:AAAMLJYHV:1:1101:61063:14555   4121   ACCGGACCTGGTGGCGGTC\n",
       "2   VH00411:18:AAAMLJYHV:1:1101:36106:9747   2301   CACCGACCTGGTGGCGGTC\n",
       "3   VH00411:18:AAAMLJYHV:1:1101:34592:3499   1670   CCCCGACGGGGGCCCAGGC\n",
       "4  VH00411:18:AAAMLJYHV:1:1101:26506:25327   1669  CAGGTGACCTGGTGGCGGTC"
      ]
     },
     "execution_count": 2,
     "metadata": {},
     "output_type": "execute_result"
    }
   ],
   "source": [
    "dup_file = \"/scratch/cqs/ravi_shah_projects/shengq2/20230201_apd_smallrna_hg38/preprocessing/identical/result/CT_01_clipped_identical.fastq.dupcount\"\n",
    "dup = pd.read_csv(dup_file, sep=\"\\t\")\n",
    "dup.head()"
   ]
  },
  {
   "cell_type": "code",
   "execution_count": 3,
   "metadata": {},
   "outputs": [
    {
     "name": "stdout",
     "output_type": "stream",
     "text": [
      "(4674869, 3)\n"
     ]
    }
   ],
   "source": [
    "print(dup.shape)\n",
    "n_read = dup.shape[0]\n"
   ]
  },
  {
   "cell_type": "code",
   "execution_count": 4,
   "metadata": {},
   "outputs": [],
   "source": [
    "dup=dup.head(10000)"
   ]
  },
  {
   "cell_type": "code",
   "execution_count": 5,
   "metadata": {},
   "outputs": [
    {
     "data": {
      "text/html": [
       "<div>\n",
       "<style scoped>\n",
       "    .dataframe tbody tr th:only-of-type {\n",
       "        vertical-align: middle;\n",
       "    }\n",
       "\n",
       "    .dataframe tbody tr th {\n",
       "        vertical-align: top;\n",
       "    }\n",
       "\n",
       "    .dataframe thead th {\n",
       "        text-align: right;\n",
       "    }\n",
       "</style>\n",
       "<table border=\"1\" class=\"dataframe\">\n",
       "  <thead>\n",
       "    <tr style=\"text-align: right;\">\n",
       "      <th></th>\n",
       "      <th>Query</th>\n",
       "      <th>Count</th>\n",
       "      <th>Sequence</th>\n",
       "      <th>SeqLength</th>\n",
       "    </tr>\n",
       "  </thead>\n",
       "  <tbody>\n",
       "    <tr>\n",
       "      <th>0</th>\n",
       "      <td>VH00411:18:AAAMLJYHV:1:1101:45782:2268</td>\n",
       "      <td>5665</td>\n",
       "      <td>ACCAGACCTGGTGGCGGTC</td>\n",
       "      <td>19</td>\n",
       "    </tr>\n",
       "    <tr>\n",
       "      <th>1</th>\n",
       "      <td>VH00411:18:AAAMLJYHV:1:1101:61063:14555</td>\n",
       "      <td>4121</td>\n",
       "      <td>ACCGGACCTGGTGGCGGTC</td>\n",
       "      <td>19</td>\n",
       "    </tr>\n",
       "    <tr>\n",
       "      <th>2</th>\n",
       "      <td>VH00411:18:AAAMLJYHV:1:1101:36106:9747</td>\n",
       "      <td>2301</td>\n",
       "      <td>CACCGACCTGGTGGCGGTC</td>\n",
       "      <td>19</td>\n",
       "    </tr>\n",
       "    <tr>\n",
       "      <th>3</th>\n",
       "      <td>VH00411:18:AAAMLJYHV:1:1101:34592:3499</td>\n",
       "      <td>1670</td>\n",
       "      <td>CCCCGACGGGGGCCCAGGC</td>\n",
       "      <td>19</td>\n",
       "    </tr>\n",
       "    <tr>\n",
       "      <th>4</th>\n",
       "      <td>VH00411:18:AAAMLJYHV:1:1101:26506:25327</td>\n",
       "      <td>1669</td>\n",
       "      <td>CAGGTGACCTGGTGGCGGTC</td>\n",
       "      <td>20</td>\n",
       "    </tr>\n",
       "  </tbody>\n",
       "</table>\n",
       "</div>"
      ],
      "text/plain": [
       "                                     Query  Count              Sequence  \\\n",
       "0   VH00411:18:AAAMLJYHV:1:1101:45782:2268   5665   ACCAGACCTGGTGGCGGTC   \n",
       "1  VH00411:18:AAAMLJYHV:1:1101:61063:14555   4121   ACCGGACCTGGTGGCGGTC   \n",
       "2   VH00411:18:AAAMLJYHV:1:1101:36106:9747   2301   CACCGACCTGGTGGCGGTC   \n",
       "3   VH00411:18:AAAMLJYHV:1:1101:34592:3499   1670   CCCCGACGGGGGCCCAGGC   \n",
       "4  VH00411:18:AAAMLJYHV:1:1101:26506:25327   1669  CAGGTGACCTGGTGGCGGTC   \n",
       "\n",
       "   SeqLength  \n",
       "0         19  \n",
       "1         19  \n",
       "2         19  \n",
       "3         19  \n",
       "4         20  "
      ]
     },
     "execution_count": 5,
     "metadata": {},
     "output_type": "execute_result"
    }
   ],
   "source": [
    "dup['SeqLength'] = dup.Sequence.str.len()\n",
    "dup.head()"
   ]
  },
  {
   "cell_type": "code",
   "execution_count": 6,
   "metadata": {},
   "outputs": [
    {
     "data": {
      "text/html": [
       "<div>\n",
       "<style scoped>\n",
       "    .dataframe tbody tr th:only-of-type {\n",
       "        vertical-align: middle;\n",
       "    }\n",
       "\n",
       "    .dataframe tbody tr th {\n",
       "        vertical-align: top;\n",
       "    }\n",
       "\n",
       "    .dataframe thead th {\n",
       "        text-align: right;\n",
       "    }\n",
       "</style>\n",
       "<table border=\"1\" class=\"dataframe\">\n",
       "  <thead>\n",
       "    <tr style=\"text-align: right;\">\n",
       "      <th></th>\n",
       "      <th>Query</th>\n",
       "      <th>Count</th>\n",
       "      <th>Sequence</th>\n",
       "      <th>SeqLength</th>\n",
       "      <th>logCount</th>\n",
       "    </tr>\n",
       "  </thead>\n",
       "  <tbody>\n",
       "    <tr>\n",
       "      <th>0</th>\n",
       "      <td>VH00411:18:AAAMLJYHV:1:1101:45782:2268</td>\n",
       "      <td>5665</td>\n",
       "      <td>ACCAGACCTGGTGGCGGTC</td>\n",
       "      <td>19</td>\n",
       "      <td>12.467860</td>\n",
       "    </tr>\n",
       "    <tr>\n",
       "      <th>1</th>\n",
       "      <td>VH00411:18:AAAMLJYHV:1:1101:61063:14555</td>\n",
       "      <td>4121</td>\n",
       "      <td>ACCGGACCTGGTGGCGGTC</td>\n",
       "      <td>19</td>\n",
       "      <td>12.008779</td>\n",
       "    </tr>\n",
       "    <tr>\n",
       "      <th>2</th>\n",
       "      <td>VH00411:18:AAAMLJYHV:1:1101:36106:9747</td>\n",
       "      <td>2301</td>\n",
       "      <td>CACCGACCTGGTGGCGGTC</td>\n",
       "      <td>19</td>\n",
       "      <td>11.168045</td>\n",
       "    </tr>\n",
       "    <tr>\n",
       "      <th>3</th>\n",
       "      <td>VH00411:18:AAAMLJYHV:1:1101:34592:3499</td>\n",
       "      <td>1670</td>\n",
       "      <td>CCCCGACGGGGGCCCAGGC</td>\n",
       "      <td>19</td>\n",
       "      <td>10.705632</td>\n",
       "    </tr>\n",
       "    <tr>\n",
       "      <th>4</th>\n",
       "      <td>VH00411:18:AAAMLJYHV:1:1101:26506:25327</td>\n",
       "      <td>1669</td>\n",
       "      <td>CAGGTGACCTGGTGGCGGTC</td>\n",
       "      <td>20</td>\n",
       "      <td>10.704768</td>\n",
       "    </tr>\n",
       "  </tbody>\n",
       "</table>\n",
       "</div>"
      ],
      "text/plain": [
       "                                     Query  Count              Sequence  \\\n",
       "0   VH00411:18:AAAMLJYHV:1:1101:45782:2268   5665   ACCAGACCTGGTGGCGGTC   \n",
       "1  VH00411:18:AAAMLJYHV:1:1101:61063:14555   4121   ACCGGACCTGGTGGCGGTC   \n",
       "2   VH00411:18:AAAMLJYHV:1:1101:36106:9747   2301   CACCGACCTGGTGGCGGTC   \n",
       "3   VH00411:18:AAAMLJYHV:1:1101:34592:3499   1670   CCCCGACGGGGGCCCAGGC   \n",
       "4  VH00411:18:AAAMLJYHV:1:1101:26506:25327   1669  CAGGTGACCTGGTGGCGGTC   \n",
       "\n",
       "   SeqLength   logCount  \n",
       "0         19  12.467860  \n",
       "1         19  12.008779  \n",
       "2         19  11.168045  \n",
       "3         19  10.705632  \n",
       "4         20  10.704768  "
      ]
     },
     "execution_count": 6,
     "metadata": {},
     "output_type": "execute_result"
    }
   ],
   "source": [
    "dup['logCount'] = np.log2(dup.Count)\n",
    "dup.head()"
   ]
  },
  {
   "cell_type": "code",
   "execution_count": 7,
   "metadata": {},
   "outputs": [
    {
     "name": "stderr",
     "output_type": "stream",
     "text": [
      "/data/cqs/softwares/conda_py3_10/lib/python3.10/site-packages/seaborn/distributions.py:1185: UserWarning: The following kwargs were not used by contour: 'Label'\n",
      "  cset = contour_func(\n"
     ]
    },
    {
     "data": {
      "text/plain": [
       "<AxesSubplot: xlabel='SeqLength', ylabel='logCount'>"
      ]
     },
     "execution_count": 7,
     "metadata": {},
     "output_type": "execute_result"
    },
    {
     "data": {
      "image/png": "[encoded data removed]",
      "text/plain": [
       "<Figure size 640x480 with 1 Axes>"
      ]
     },
     "metadata": {},
     "output_type": "display_data"
    }
   ],
   "source": [
    "sns.kdeplot(x = dup.SeqLength, y= dup.logCount,\n",
    "            color='r', fill=True, Label='Dupcount',\n",
    "            cmap=\"Reds\", thresh=0.05)"
   ]
  }
 ],
 "metadata": {
  "kernelspec": {
   "display_name": "Python 3",
   "language": "python",
   "name": "python3"
  },
  "language_info": {
   "codemirror_mode": {
    "name": "ipython",
    "version": 3
   },
   "file_extension": ".py",
   "mimetype": "text/x-python",
   "name": "python",
   "nbconvert_exporter": "python",
   "pygments_lexer": "ipython3",
   "version": "3.10.4"
  },
  "orig_nbformat": 4,
  "vscode": {
   "interpreter": {
    "hash": "f456f3eb05c73ce5e637900a8078ae936a462822f21d45a1b1c996283f110744"
   }
  }
 },
 "nbformat": 4,
 "nbformat_minor": 2
}
